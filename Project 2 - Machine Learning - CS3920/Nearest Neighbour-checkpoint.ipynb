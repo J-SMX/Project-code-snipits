{
 "cells": [
  {
   "cell_type": "code",
   "execution_count": 1,
   "id": "45a097f0",
   "metadata": {},
   "outputs": [],
   "source": [
    "from sklearn.datasets import load_iris\n",
    "iris = load_iris()\n",
    "import numpy as np\n",
    "ion_data = np.genfromtxt(\"ionosphere.txt\", delimiter=',')"
   ]
  },
  {
   "cell_type": "code",
   "execution_count": 3,
   "id": "0f41b141",
   "metadata": {},
   "outputs": [],
   "source": [
    "from sklearn.model_selection import train_test_split\n",
    "X_train, X_test, Y_train, Y_test = train_test_split(iris.data, iris.target, random_state=1308)"
   ]
  },
  {
   "cell_type": "code",
   "execution_count": 4,
   "id": "a992eed7",
   "metadata": {},
   "outputs": [
    {
     "data": {
      "text/plain": [
       "(112, 4)"
      ]
     },
     "execution_count": 4,
     "metadata": {},
     "output_type": "execute_result"
    }
   ],
   "source": [
    "X_train.shape"
   ]
  },
  {
   "cell_type": "code",
   "execution_count": 5,
   "id": "282b1714",
   "metadata": {},
   "outputs": [
    {
     "name": "stdout",
     "output_type": "stream",
     "text": [
      "4\n",
      "0.10526315789473684\n"
     ]
    }
   ],
   "source": [
    "from sklearn.neighbors import KNeighborsClassifier\n",
    "\n",
    "k_values = range(1, 38)\n",
    "num_errors = 0\n",
    "for k in k_values:\n",
    "    knn_0 = KNeighborsClassifier(n_neighbors=k)\n",
    "    knn_0.fit(X_train, Y_train)\n",
    "    y_pred = knn_0.predict(X_test)\n",
    "    if Y_test[k] != y_pred[k]:\n",
    "        num_errors += 1\n",
    "\n",
    "error_rate = num_errors / X_test.shape[0]\n",
    "print(num_errors)\n",
    "print(error_rate)"
   ]
  },
  {
   "cell_type": "code",
   "execution_count": 6,
   "id": "c8ba805c",
   "metadata": {},
   "outputs": [],
   "source": [
    "X = ion_data[:, :-1]\n",
    "Y = ion_data[:, -1]\n",
    "X_train_ion, X_test_ion, Y_train_ion, Y_test_ion = train_test_split(X, Y, random_state=1308)"
   ]
  },
  {
   "cell_type": "code",
   "execution_count": 7,
   "id": "ba8f0685",
   "metadata": {},
   "outputs": [
    {
     "name": "stdout",
     "output_type": "stream",
     "text": [
      "(263, 34) (88, 34)\n"
     ]
    }
   ],
   "source": [
    "print(X_train_ion.shape, X_test_ion.shape)"
   ]
  },
  {
   "cell_type": "code",
   "execution_count": 8,
   "id": "48bfe63b",
   "metadata": {},
   "outputs": [
    {
     "name": "stdout",
     "output_type": "stream",
     "text": [
      "4\n",
      "0.20454545454545456\n"
     ]
    }
   ],
   "source": [
    "ion_values = range(1, 88)\n",
    "num_errors_ion = 0\n",
    "\n",
    "for i in ion_values:\n",
    "    knn_1 = KNeighborsClassifier(n_neighbors=i) \n",
    "    knn_1.fit(X_train_ion, Y_train_ion)\n",
    "    y_pred_ion = knn_1.predict(X_test_ion)\n",
    "    if Y_test_ion[i] != y_pred_ion[i]:\n",
    "        num_errors_ion += 1\n",
    "\n",
    "error_rate_ion = num_errors_ion / X_test_ion.shape[0]\n",
    "print(num_errors)\n",
    "print(error_rate_ion)"
   ]
  },
  {
   "cell_type": "code",
   "execution_count": 10,
   "id": "a48b8e17",
   "metadata": {},
   "outputs": [
    {
     "name": "stdout",
     "output_type": "stream",
     "text": [
      "Iris Dataset Conformal Predictor Accuracy: 0.26\n"
     ]
    }
   ],
   "source": [
    "from sklearn.neighbors import NearestNeighbors\n",
    "from sklearn.metrics import accuracy_score\n",
    "from sklearn.model_selection import train_test_split\n",
    "\n",
    "# Resplit and train dataset, had a weird issue saying these variables weren't defined, this was the only fix that worked.\n",
    "X_train_iris, X_test_iris, Y_train_iris, Y_test_iris = train_test_split(iris['data'], iris['target'], random_state=1308)\n",
    "\n",
    "knn_iris = KNeighborsClassifier(n_neighbors=1)\n",
    "knn_iris.fit(X_train_iris, Y_train_iris)\n",
    "\n",
    "# Measure the Nearest neighbor in appropriate way.\n",
    "nn_iris = NearestNeighbors(n_neighbors=1, metric='euclidean')\n",
    "nn_iris.fit(X_train_iris)\n",
    "\n",
    "# Calculate conformity score.\n",
    "conformity_scores_iris = []\n",
    "for i, test_instance in enumerate(X_test_iris):\n",
    "    _, indices = nn_iris.kneighbors([test_instance])\n",
    "    same_class_distances = []\n",
    "    diff_class_distances = []\n",
    "    for j in indices[0]:\n",
    "        if Y_train_iris[j] == Y_test_iris[i]:\n",
    "            same_class_distances.append(np.linalg.norm(X_train_iris[j] - test_instance))\n",
    "        else:\n",
    "            diff_class_distances.append(np.linalg.norm(X_train_iris[j] - test_instance))\n",
    "    if len(same_class_distances) > 0 and len(diff_class_distances) > 0:\n",
    "        conformity_scores_iris.append(min(diff_class_distances) / min(same_class_distances))\n",
    "    else:\n",
    "        conformity_scores_iris.append(0.0) \n",
    "        \n",
    "alpha = 0.05\n",
    "\n",
    "# Calculate p-values for the Iris dataset.\n",
    "p_values_iris = [np.sum(np.array(conformity_scores_iris) >= score) / len(conformity_scores_iris) for score in conformity_scores_iris]\n",
    "valid_predictions_iris = [int(p_value >= alpha) for p_value in p_values_iris]\n",
    "\n",
    "# Test accuracy by comparing test data with predictions.\n",
    "accuracy_iris = accuracy_score(Y_test_iris, valid_predictions_iris)\n",
    "\n",
    "# Print Iris accuracy.\n",
    "print(f\"Iris Dataset Conformal Predictor Accuracy: {accuracy_iris:.2f}\")"
   ]
  },
  {
   "cell_type": "code",
   "execution_count": 11,
   "id": "c3723bd8",
   "metadata": {},
   "outputs": [
    {
     "name": "stdout",
     "output_type": "stream",
     "text": [
      "Ionosphere Dataset Conformal Predictor Accuracy: 0.72\n"
     ]
    }
   ],
   "source": [
    "knn_iris = KNeighborsClassifier(n_neighbors=1)\n",
    "knn_iris.fit(X_train_ion, Y_train_ion)\n",
    "\n",
    "# Measure the Nearest neighbor in appropriate way.\n",
    "nn_ion = NearestNeighbors(n_neighbors=1, metric='euclidean')\n",
    "nn_ion.fit(X_train_ion)\n",
    "\n",
    "# Calculate conformity score.\n",
    "conformity_scores_ion = []\n",
    "for i, test_instance in enumerate(X_test_ion):\n",
    "    _, indices = nn_ion.kneighbors([test_instance])\n",
    "    same_class_distances = []\n",
    "    diff_class_distances = []\n",
    "    for j in indices[0]:\n",
    "        if Y_train_ion[j] == Y_test_ion[i]:\n",
    "            same_class_distances.append(np.linalg.norm(X_train_ion[j] - test_instance))\n",
    "        else:\n",
    "            diff_class_distances.append(np.linalg.norm(X_train_ion[j] - test_instance))\n",
    "    if len(same_class_distances) > 0 and len(diff_class_distances) > 0:\n",
    "        conformity_scores_ion.append(min(diff_class_distances) / min(same_class_distances))\n",
    "    else:\n",
    "        conformity_scores_ion.append(0.0) \n",
    "        \n",
    "alpha = 0.05\n",
    "\n",
    "# Calculate p-values for the Iris dataset.\n",
    "p_values_ion = [np.sum(np.array(conformity_scores_ion) >= score) / len(conformity_scores_ion) for score in conformity_scores_ion]\n",
    "valid_predictions_ion = [int(p_value >= alpha) for p_value in p_values_ion]\n",
    "\n",
    "# Test accuracy by comparing test data with predictions.\n",
    "accuracy_ion = accuracy_score(Y_test_ion, valid_predictions_ion)\n",
    "\n",
    "# Print Ionosphere accuracy.\n",
    "print(f\"Ionosphere Dataset Conformal Predictor Accuracy: {accuracy_ion:.2f}\")"
   ]
  }
 ],
 "metadata": {
  "kernelspec": {
   "display_name": "Python 3 (ipykernel)",
   "language": "python",
   "name": "python3"
  },
  "language_info": {
   "codemirror_mode": {
    "name": "ipython",
    "version": 3
   },
   "file_extension": ".py",
   "mimetype": "text/x-python",
   "name": "python",
   "nbconvert_exporter": "python",
   "pygments_lexer": "ipython3",
   "version": "3.11.5"
  }
 },
 "nbformat": 4,
 "nbformat_minor": 5
}
